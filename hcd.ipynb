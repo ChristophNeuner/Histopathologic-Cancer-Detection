{
 "cells": [
  {
   "cell_type": "markdown",
   "metadata": {},
   "source": [
    "# Imports"
   ]
  },
  {
   "cell_type": "code",
   "execution_count": 1,
   "metadata": {},
   "outputs": [],
   "source": [
    "import os\n",
    "os.environ[\"CUDA_DEVICE_ORDER\"]=\"PCI_BUS_ID\"\n",
    "os.environ[\"CUDA_VISIBLE_DEVICES\"]=\"1\"\n",
    "\n",
    "#device = 0\n",
    "#torch.cuda.set_device(device)\n",
    "\n",
    "%reload_ext autoreload\n",
    "%autoreload 2\n",
    "%matplotlib inline\n",
    "import sys\n",
    "sys.path.append('../fastai/') #fastai version 1.0\n",
    "from fastai.vision import *\n",
    "from fastai.vision.learner import model_meta\n",
    "\n",
    "sys.path.append('../models-pytorch/pretrained-models.pytorch')\n",
    "import pretrainedmodels\n",
    "from pretrainedmodels import *\n",
    "\n",
    "import pandas as pd\n",
    "import numpy as np\n",
    "import os\n",
    "import torch\n",
    "import torchvision\n",
    "from torchvision.models import *\n",
    "from torchsummary import summary\n",
    "from pathlib import Path\n",
    "from functools import partial, update_wrapper\n",
    "from tqdm import tqdm_notebook as tqdm\n",
    "from sklearn.metrics import roc_curve, auc, roc_auc_score\n",
    "\n",
    "PATH = Path('/home/Deep_Learner/work/network/datasets/Histopathologic-Cancer-Detection')\n",
    "TRAIN_NAME = 'train'\n",
    "TRAIN = PATH/TRAIN_NAME\n",
    "CSV_NAME = 'train_labels.csv'\n",
    "LABELS = PATH/CSV_NAME\n",
    "TEST_NAME = 'test'\n",
    "TEST = PATH/TEST_NAME\n",
    "SAMPLE = PATH/'sample_submission.csv'\n",
    "SUBMISSIONS = PATH/'submissions'\n",
    "SUBMISSIONS.mkdir(exist_ok=True)\n",
    "\n",
    "nw = 8   #number of workers for data loader\n",
    "torch.backends.cudnn.benchmark=True\n",
    "np.random.seed(42)\n",
    "\n",
    "def batch_stats(self, funcs:Collection[Callable]=None)->Tensor:\n",
    "        \"Grab a batch of data and call reduction function `func` per channel\"\n",
    "        funcs = ifnone(funcs, [torch.mean,torch.std])\n",
    "        x = self.one_batch(ds_type=DatasetType.Train, denorm=False)[0].cpu()\n",
    "        return [func(channel_view(x), 1) for func in funcs]\n",
    "    \n",
    "    \n",
    "vision.data.ImageDataBunch.batch_stats = batch_stats\n",
    "\n",
    "sz = 96\n",
    "bs = 128\n",
    "epochs_freezed = 1\n",
    "epochs_unfreezed = 20\n",
    "\n",
    "#fastai defaults\n",
    "tta_beta = 0.4 \n",
    "tta_scale = 1.35\n",
    "dropout = 0.5\n",
    "wd = 0.01\n",
    "\n",
    "#non defaults\n",
    "#wd = 0.1 not better for se_resnext50"
   ]
  },
  {
   "cell_type": "markdown",
   "metadata": {},
   "source": [
    "# Extra Models"
   ]
  },
  {
   "cell_type": "code",
   "execution_count": 2,
   "metadata": {},
   "outputs": [],
   "source": [
    "#https://github.com/PPPW/deep-learning-random-explore/blob/master/CNN_archs/cnn_archs.ipynb"
   ]
  },
  {
   "cell_type": "markdown",
   "metadata": {},
   "source": [
    "## utils"
   ]
  },
  {
   "cell_type": "code",
   "execution_count": 3,
   "metadata": {},
   "outputs": [],
   "source": [
    "from fastai.torch_core import flatten_model\n",
    "\n",
    "def arch_summary(arch):\n",
    "    model = arch(False)\n",
    "    tot = 0\n",
    "    for i, l in enumerate(model.children()):\n",
    "        n_layers = len(flatten_model(l))\n",
    "        tot += n_layers\n",
    "        print(f'({i}) {l.__class__.__name__:<12}: {n_layers:<4}layers (total: {tot})')\n"
   ]
  },
  {
   "cell_type": "markdown",
   "metadata": {},
   "source": [
    "## Models"
   ]
  },
  {
   "cell_type": "markdown",
   "metadata": {},
   "source": [
    "### NASNetAMobile"
   ]
  },
  {
   "cell_type": "code",
   "execution_count": 4,
   "metadata": {},
   "outputs": [],
   "source": [
    "def identity(x): return x\n",
    "\n",
    "def nasnetamobile(pretrained=True):\n",
    "    pretrained = 'imagenet' if pretrained else None\n",
    "    model = pretrainedmodels.nasnetamobile(pretrained=pretrained, num_classes=1000)  \n",
    "    model.logits = identity\n",
    "    model_meta[nasnetamobile] =  { 'cut': identity, 'split': lambda m: (list(m[0][0].children())[8], m[1]) }\n",
    "    return nn.Sequential(model)\n",
    "\n",
    "#arch_summary(lambda _: nasnetamobile(False)[0])"
   ]
  },
  {
   "cell_type": "markdown",
   "metadata": {},
   "source": [
    "### se_resnext50"
   ]
  },
  {
   "cell_type": "code",
   "execution_count": 5,
   "metadata": {},
   "outputs": [],
   "source": [
    "def se_resnext50_32x4d(pretrained=True):\n",
    "    pretrained = 'imagenet' if pretrained else None\n",
    "    model = pretrainedmodels.se_resnext50_32x4d(pretrained=pretrained)\n",
    "    _se_resnet_meta = {'cut': -2, 'split': lambda m: (m[0][3], m[1]) }\n",
    "    model_meta[se_resnext50_32x4d] =  _se_resnet_meta\n",
    "    return model\n",
    "\n",
    "#arch_summary(lambda _: pretrainedmodels.se_resnext50_32x4d(pretrained=None))"
   ]
  },
  {
   "cell_type": "markdown",
   "metadata": {},
   "source": [
    "# n "
   ]
  },
  {
   "cell_type": "code",
   "execution_count": 6,
   "metadata": {},
   "outputs": [],
   "source": [
    "n=101"
   ]
  },
  {
   "cell_type": "code",
   "execution_count": 8,
   "metadata": {},
   "outputs": [
    {
     "data": {
      "text/plain": [
       "array(101)"
      ]
     },
     "execution_count": 8,
     "metadata": {},
     "output_type": "execute_result"
    }
   ],
   "source": [
    "n = np.load('n.npy')\n",
    "n"
   ]
  },
  {
   "cell_type": "code",
   "execution_count": 9,
   "metadata": {},
   "outputs": [
    {
     "data": {
      "text/plain": [
       "102"
      ]
     },
     "execution_count": 9,
     "metadata": {},
     "output_type": "execute_result"
    }
   ],
   "source": [
    "m = n+1\n",
    "#m=101\n",
    "np.save('n', m)\n",
    "m"
   ]
  },
  {
   "cell_type": "markdown",
   "metadata": {},
   "source": [
    "# Data "
   ]
  },
  {
   "cell_type": "code",
   "execution_count": 7,
   "metadata": {},
   "outputs": [],
   "source": [
    "#get_transforms(do_flip=True, flip_vert=True, max_rotate=.0, max_zoom=.1,\n",
    "#                      max_lighting=0.05, max_warp=0.)\n",
    "\n",
    "tfms = ([crop(size=sz),\n",
    "        RandTransform(tfm=TfmAffine (dihedral_affine), kwargs={}, p=1.0, resolved={}, do_run=True, is_random=True),\n",
    "        RandTransform(tfm=TfmLighting (brightness), kwargs={'change': (0.475, 0.525)}, p=0.75, resolved={}, do_run=True, is_random=True),\n",
    "        RandTransform(tfm=TfmLighting (contrast), kwargs={'scale': (0.95, 1.0526315789473684)}, p=0.75, resolved={}, do_run=True, is_random=True)],\n",
    "      #RandTransform(tfm=TfmCoord (symmetric_warp), kwargs={'magnitude': (-0.2, 0.2)}, p=0.75, resolved={}, do_run=True, is_random=True),\n",
    "      #RandTransform(tfm=TfmAffine (rotate), kwargs={'degrees': (-10.0, 10.0)}, p=0.75, resolved={}, do_run=True, is_random=True),\n",
    "      #RandTransform(tfm=TfmLighting (brightness), kwargs={'change': (0.4, 0.6)}, p=0.75, resolved={}, do_run=True, is_random=True),\n",
    "      #RandTransform(tfm=TfmLighting (contrast), kwargs={'scale': (0.8, 1.25)}, p=0.75, resolved={}, do_run=True, is_random=True)],\n",
    "     [crop(size=sz)])\n",
    "\n",
    "data = (ImageList.from_csv(path=PATH, csv_name=CSV_NAME, folder=TRAIN_NAME, suffix='.tif')\n",
    ".split_by_rand_pct(0.01)\n",
    "#.no_split()\n",
    ".label_from_df()\n",
    ".add_test_folder(test_folder=TEST_NAME)\n",
    ".transform(tfms)\n",
    ".databunch(bs=bs, num_workers=nw)\n",
    "#.normalize(imagenet_stats))\n",
    ".normalize())"
   ]
  },
  {
   "cell_type": "markdown",
   "metadata": {},
   "source": [
    "# Metrics "
   ]
  },
  {
   "cell_type": "code",
   "execution_count": 8,
   "metadata": {},
   "outputs": [],
   "source": [
    "def roc_curve_custom(y_pred:torch.Tensor, y_true:torch.Tensor):\n",
    "    probs = y_pred[:,-1]\n",
    "    fpr, tpr, thresholds = roc_curve(y_true, probs, pos_label=1)\n",
    "    roc_auc = auc(fpr, tpr)\n",
    "    return fpr, tpr, thresholds, roc_auc\n",
    "\n",
    "def auc_score_1(y_pred:torch.Tensor, y_true:torch.Tensor):\n",
    "    fpr, tpr, thresholds, roc_auc = roc_curve_custom(y_pred, y_true)\n",
    "    return torch.as_tensor(roc_auc)\n",
    "\n",
    "def auc_score_2(y_pred,y_true,tens=True):\n",
    "    score=roc_auc_score(y_true,torch.sigmoid(y_pred)[:,1])\n",
    "    if tens:\n",
    "        score=tensor(score)\n",
    "    else:\n",
    "        score=score\n",
    "    return score"
   ]
  },
  {
   "cell_type": "markdown",
   "metadata": {},
   "source": [
    "# Learner"
   ]
  },
  {
   "cell_type": "markdown",
   "metadata": {},
   "source": [
    "## Create"
   ]
  },
  {
   "cell_type": "code",
   "execution_count": 9,
   "metadata": {},
   "outputs": [],
   "source": [
    "arch = se_resnext50_32x4d"
   ]
  },
  {
   "cell_type": "code",
   "execution_count": 10,
   "metadata": {},
   "outputs": [
    {
     "data": {
      "text/plain": [
       "<function __main__.se_resnext50_32x4d(pretrained=True)>"
      ]
     },
     "execution_count": 10,
     "metadata": {},
     "output_type": "execute_result"
    }
   ],
   "source": [
    "arch"
   ]
  },
  {
   "cell_type": "code",
   "execution_count": 11,
   "metadata": {},
   "outputs": [
    {
     "name": "stderr",
     "output_type": "stream",
     "text": [
      "Downloading: \"http://data.lip6.fr/cadene/pretrainedmodels/se_resnext50_32x4d-a260b3a4.pth\" to /home/Deep_Learner/.torch/models/se_resnext50_32x4d-a260b3a4.pth\n",
      "110559176it [00:09, 11516618.13it/s]\n"
     ]
    }
   ],
   "source": [
    "learner = cnn_learner(data=data, \n",
    "                     base_arch=arch, \n",
    "                     metrics=[accuracy, auc_score_1, auc_score_2], \n",
    "                     ps=dropout, \n",
    "                     pretrained=True, \n",
    "                     wd = wd)"
   ]
  },
  {
   "cell_type": "markdown",
   "metadata": {},
   "source": [
    "## Name"
   ]
  },
  {
   "cell_type": "code",
   "execution_count": 12,
   "metadata": {},
   "outputs": [
    {
     "data": {
      "text/plain": [
       "'101-se_resnext50_32x4d-cropped_96-bs128-99%_dataset-normalize(imagenet_stats)'"
      ]
     },
     "execution_count": 12,
     "metadata": {},
     "output_type": "execute_result"
    }
   ],
   "source": [
    "nameBase = f'{n}-{arch.__name__}-cropped_{sz}-bs{bs}-99%_dataset-normalize(imagenet_stats)'\n",
    "nameBase"
   ]
  },
  {
   "cell_type": "markdown",
   "metadata": {},
   "source": [
    "## Train"
   ]
  },
  {
   "cell_type": "code",
   "execution_count": 13,
   "metadata": {},
   "outputs": [
    {
     "data": {
      "text/html": [],
      "text/plain": [
       "<IPython.core.display.HTML object>"
      ]
     },
     "metadata": {},
     "output_type": "display_data"
    },
    {
     "name": "stdout",
     "output_type": "stream",
     "text": [
      "LR Finder is complete, type {learner_name}.recorder.plot() to see the graph.\n"
     ]
    },
    {
     "data": {
      "image/png": "[encoded data removed]",
      "text/plain": [
       "<Figure size 432x288 with 1 Axes>"
      ]
     },
     "metadata": {
      "needs_background": "light"
     },
     "output_type": "display_data"
    }
   ],
   "source": [
    "learner.lr_find()\n",
    "learner.recorder.plot()"
   ]
  },
  {
   "cell_type": "code",
   "execution_count": 14,
   "metadata": {},
   "outputs": [],
   "source": [
    "lr = 1e-2"
   ]
  },
  {
   "cell_type": "code",
   "execution_count": 15,
   "metadata": {
    "scrolled": false
   },
   "outputs": [
    {
     "data": {
      "text/html": [
       "Total time: 07:55 <p><table border=\"1\" class=\"dataframe\">\n",
       "  <thead>\n",
       "    <tr style=\"text-align: left;\">\n",
       "      <th>epoch</th>\n",
       "      <th>train_loss</th>\n",
       "      <th>valid_loss</th>\n",
       "      <th>accuracy</th>\n",
       "      <th>auc_score_1</th>\n",
       "      <th>auc_score_2</th>\n",
       "      <th>time</th>\n",
       "    </tr>\n",
       "  </thead>\n",
       "  <tbody>\n",
       "    <tr>\n",
       "      <td>0</td>\n",
       "      <td>0.156803</td>\n",
       "      <td>0.119346</td>\n",
       "      <td>0.949545</td>\n",
       "      <td>0.991537</td>\n",
       "      <td>0.991537</td>\n",
       "      <td>07:55</td>\n",
       "    </tr>\n",
       "  </tbody>\n",
       "</table>"
      ],
      "text/plain": [
       "<IPython.core.display.HTML object>"
      ]
     },
     "metadata": {},
     "output_type": "display_data"
    }
   ],
   "source": [
    "learner.fit_one_cycle(cyc_len=1, max_lr=lr)"
   ]
  },
  {
   "cell_type": "code",
   "execution_count": 16,
   "metadata": {},
   "outputs": [],
   "source": [
    "nameHead = f'{nameBase}-head'"
   ]
  },
  {
   "cell_type": "code",
   "execution_count": 17,
   "metadata": {},
   "outputs": [],
   "source": [
    "learner.save(nameHead)"
   ]
  },
  {
   "cell_type": "code",
   "execution_count": 18,
   "metadata": {},
   "outputs": [],
   "source": [
    "#learner.load(nameHead)"
   ]
  },
  {
   "cell_type": "code",
   "execution_count": 19,
   "metadata": {},
   "outputs": [],
   "source": [
    "learner.unfreeze()"
   ]
  },
  {
   "cell_type": "code",
   "execution_count": 20,
   "metadata": {
    "scrolled": true
   },
   "outputs": [
    {
     "data": {
      "text/html": [],
      "text/plain": [
       "<IPython.core.display.HTML object>"
      ]
     },
     "metadata": {},
     "output_type": "display_data"
    },
    {
     "name": "stdout",
     "output_type": "stream",
     "text": [
      "LR Finder is complete, type {learner_name}.recorder.plot() to see the graph.\n"
     ]
    },
    {
     "data": {
      "image/png": "[encoded data removed]",
      "text/plain": [
       "<Figure size 432x288 with 1 Axes>"
      ]
     },
     "metadata": {
      "needs_background": "light"
     },
     "output_type": "display_data"
    }
   ],
   "source": [
    "learner.lr_find()\n",
    "learner.recorder.plot()"
   ]
  },
  {
   "cell_type": "code",
   "execution_count": 21,
   "metadata": {},
   "outputs": [],
   "source": [
    "lr2 = 1e-5\n",
    "lr3 = 1e-4"
   ]
  },
  {
   "cell_type": "code",
   "execution_count": 22,
   "metadata": {
    "scrolled": true
   },
   "outputs": [
    {
     "data": {
      "text/html": [
       "Total time: 2:33:29 <p><table border=\"1\" class=\"dataframe\">\n",
       "  <thead>\n",
       "    <tr style=\"text-align: left;\">\n",
       "      <th>epoch</th>\n",
       "      <th>train_loss</th>\n",
       "      <th>valid_loss</th>\n",
       "      <th>accuracy</th>\n",
       "      <th>auc_score_1</th>\n",
       "      <th>auc_score_2</th>\n",
       "      <th>time</th>\n",
       "    </tr>\n",
       "  </thead>\n",
       "  <tbody>\n",
       "    <tr>\n",
       "      <td>0</td>\n",
       "      <td>0.146412</td>\n",
       "      <td>0.114574</td>\n",
       "      <td>0.954091</td>\n",
       "      <td>0.992039</td>\n",
       "      <td>0.992039</td>\n",
       "      <td>07:40</td>\n",
       "    </tr>\n",
       "    <tr>\n",
       "      <td>1</td>\n",
       "      <td>0.134959</td>\n",
       "      <td>0.110740</td>\n",
       "      <td>0.958636</td>\n",
       "      <td>0.992319</td>\n",
       "      <td>0.992319</td>\n",
       "      <td>07:39</td>\n",
       "    </tr>\n",
       "    <tr>\n",
       "      <td>2</td>\n",
       "      <td>0.131329</td>\n",
       "      <td>0.102970</td>\n",
       "      <td>0.964091</td>\n",
       "      <td>0.993649</td>\n",
       "      <td>0.993649</td>\n",
       "      <td>07:39</td>\n",
       "    </tr>\n",
       "    <tr>\n",
       "      <td>3</td>\n",
       "      <td>0.116593</td>\n",
       "      <td>0.093483</td>\n",
       "      <td>0.968182</td>\n",
       "      <td>0.994431</td>\n",
       "      <td>0.994431</td>\n",
       "      <td>07:39</td>\n",
       "    </tr>\n",
       "    <tr>\n",
       "      <td>4</td>\n",
       "      <td>0.102311</td>\n",
       "      <td>0.086589</td>\n",
       "      <td>0.969091</td>\n",
       "      <td>0.994819</td>\n",
       "      <td>0.994819</td>\n",
       "      <td>07:41</td>\n",
       "    </tr>\n",
       "    <tr>\n",
       "      <td>5</td>\n",
       "      <td>0.091329</td>\n",
       "      <td>0.082657</td>\n",
       "      <td>0.969545</td>\n",
       "      <td>0.995465</td>\n",
       "      <td>0.995465</td>\n",
       "      <td>07:40</td>\n",
       "    </tr>\n",
       "    <tr>\n",
       "      <td>6</td>\n",
       "      <td>0.083897</td>\n",
       "      <td>0.079888</td>\n",
       "      <td>0.975000</td>\n",
       "      <td>0.995612</td>\n",
       "      <td>0.995612</td>\n",
       "      <td>07:41</td>\n",
       "    </tr>\n",
       "    <tr>\n",
       "      <td>7</td>\n",
       "      <td>0.074141</td>\n",
       "      <td>0.080695</td>\n",
       "      <td>0.974091</td>\n",
       "      <td>0.995070</td>\n",
       "      <td>0.995070</td>\n",
       "      <td>07:40</td>\n",
       "    </tr>\n",
       "    <tr>\n",
       "      <td>8</td>\n",
       "      <td>0.068802</td>\n",
       "      <td>0.081209</td>\n",
       "      <td>0.972273</td>\n",
       "      <td>0.994941</td>\n",
       "      <td>0.994941</td>\n",
       "      <td>07:41</td>\n",
       "    </tr>\n",
       "    <tr>\n",
       "      <td>9</td>\n",
       "      <td>0.058036</td>\n",
       "      <td>0.077259</td>\n",
       "      <td>0.976818</td>\n",
       "      <td>0.994927</td>\n",
       "      <td>0.994927</td>\n",
       "      <td>07:41</td>\n",
       "    </tr>\n",
       "    <tr>\n",
       "      <td>10</td>\n",
       "      <td>0.059679</td>\n",
       "      <td>0.077220</td>\n",
       "      <td>0.974091</td>\n",
       "      <td>0.995433</td>\n",
       "      <td>0.995433</td>\n",
       "      <td>07:39</td>\n",
       "    </tr>\n",
       "    <tr>\n",
       "      <td>11</td>\n",
       "      <td>0.050178</td>\n",
       "      <td>0.074659</td>\n",
       "      <td>0.980000</td>\n",
       "      <td>0.995608</td>\n",
       "      <td>0.995608</td>\n",
       "      <td>07:41</td>\n",
       "    </tr>\n",
       "    <tr>\n",
       "      <td>12</td>\n",
       "      <td>0.047702</td>\n",
       "      <td>0.076309</td>\n",
       "      <td>0.973636</td>\n",
       "      <td>0.995839</td>\n",
       "      <td>0.995839</td>\n",
       "      <td>07:40</td>\n",
       "    </tr>\n",
       "    <tr>\n",
       "      <td>13</td>\n",
       "      <td>0.042914</td>\n",
       "      <td>0.081241</td>\n",
       "      <td>0.975000</td>\n",
       "      <td>0.995134</td>\n",
       "      <td>0.995134</td>\n",
       "      <td>07:40</td>\n",
       "    </tr>\n",
       "    <tr>\n",
       "      <td>14</td>\n",
       "      <td>0.042022</td>\n",
       "      <td>0.083332</td>\n",
       "      <td>0.975000</td>\n",
       "      <td>0.995011</td>\n",
       "      <td>0.995011</td>\n",
       "      <td>07:40</td>\n",
       "    </tr>\n",
       "    <tr>\n",
       "      <td>15</td>\n",
       "      <td>0.029431</td>\n",
       "      <td>0.084054</td>\n",
       "      <td>0.977273</td>\n",
       "      <td>0.995355</td>\n",
       "      <td>0.995355</td>\n",
       "      <td>07:40</td>\n",
       "    </tr>\n",
       "    <tr>\n",
       "      <td>16</td>\n",
       "      <td>0.032914</td>\n",
       "      <td>0.086043</td>\n",
       "      <td>0.976364</td>\n",
       "      <td>0.995020</td>\n",
       "      <td>0.995020</td>\n",
       "      <td>07:40</td>\n",
       "    </tr>\n",
       "    <tr>\n",
       "      <td>17</td>\n",
       "      <td>0.033800</td>\n",
       "      <td>0.085187</td>\n",
       "      <td>0.975909</td>\n",
       "      <td>0.995118</td>\n",
       "      <td>0.995118</td>\n",
       "      <td>07:40</td>\n",
       "    </tr>\n",
       "    <tr>\n",
       "      <td>18</td>\n",
       "      <td>0.031965</td>\n",
       "      <td>0.084819</td>\n",
       "      <td>0.977273</td>\n",
       "      <td>0.994997</td>\n",
       "      <td>0.994997</td>\n",
       "      <td>07:40</td>\n",
       "    </tr>\n",
       "    <tr>\n",
       "      <td>19</td>\n",
       "      <td>0.033386</td>\n",
       "      <td>0.085495</td>\n",
       "      <td>0.975455</td>\n",
       "      <td>0.995023</td>\n",
       "      <td>0.995023</td>\n",
       "      <td>07:40</td>\n",
       "    </tr>\n",
       "  </tbody>\n",
       "</table>"
      ],
      "text/plain": [
       "<IPython.core.display.HTML object>"
      ]
     },
     "metadata": {},
     "output_type": "display_data"
    }
   ],
   "source": [
    "learner.fit_one_cycle(cyc_len=epochs_unfreezed, max_lr=slice(lr2, lr3))"
   ]
  },
  {
   "cell_type": "code",
   "execution_count": 23,
   "metadata": {
    "scrolled": true
   },
   "outputs": [
    {
     "data": {
      "image/png": "[encoded data removed]",
      "text/plain": [
       "<Figure size 432x288 with 1 Axes>"
      ]
     },
     "metadata": {
      "needs_background": "light"
     },
     "output_type": "display_data"
    }
   ],
   "source": [
    "learner.recorder.plot_losses()"
   ]
  },
  {
   "cell_type": "code",
   "execution_count": 24,
   "metadata": {},
   "outputs": [],
   "source": [
    "nameComplete = f'{nameBase}-complete'\n",
    "learner.save(nameComplete)"
   ]
  },
  {
   "cell_type": "markdown",
   "metadata": {
    "heading_collapsed": true
   },
   "source": [
    "### best learning schedules"
   ]
  },
  {
   "cell_type": "markdown",
   "metadata": {
    "hidden": true
   },
   "source": [
    "#### se_resnext50_32x4d"
   ]
  },
  {
   "cell_type": "code",
   "execution_count": null,
   "metadata": {
    "hidden": true
   },
   "outputs": [],
   "source": [
    "#public score: 0.9781\n",
    "#saved model name: 94-se_resnext50_32x4d-cropped_96-99%_dataset-dropout0.5-complete.pth\n",
    "\n",
    "#sz = 96\n",
    "#bs = 128\n",
    "#tta_beta = 0.4\n",
    "#tta_scale = 1.35\n",
    "#dropout = 0.5\n",
    "#\n",
    "#lr = 1e-2\n",
    "#learner.fit_one_cycle(cyc_len=1, max_lr=lr)\n",
    "#\n",
    "#learner.unfreeze()\n",
    "#lr2 = 1e-5\n",
    "#lr3 = 1e-4\n",
    "#learner.fit_one_cycle(cyc_len=20, max_lr=slice(lr2, lr3))"
   ]
  },
  {
   "cell_type": "markdown",
   "metadata": {
    "hidden": true
   },
   "source": [
    "#### vgg16"
   ]
  },
  {
   "cell_type": "code",
   "execution_count": 20,
   "metadata": {
    "collapsed": true,
    "hidden": true
   },
   "outputs": [
    {
     "data": {
      "text/html": [
       "Total time: 1:41:52 <p><table border=\"1\" class=\"dataframe\">\n",
       "  <thead>\n",
       "    <tr style=\"text-align: left;\">\n",
       "      <th>epoch</th>\n",
       "      <th>train_loss</th>\n",
       "      <th>valid_loss</th>\n",
       "      <th>accuracy</th>\n",
       "      <th>auc_score_1</th>\n",
       "      <th>auc_score_2</th>\n",
       "      <th>time</th>\n",
       "    </tr>\n",
       "  </thead>\n",
       "  <tbody>\n",
       "    <tr>\n",
       "      <td>1</td>\n",
       "      <td>0.200271</td>\n",
       "      <td>0.176163</td>\n",
       "      <td>0.927727</td>\n",
       "      <td>0.980873</td>\n",
       "      <td>0.980873</td>\n",
       "      <td>05:04</td>\n",
       "    </tr>\n",
       "    <tr>\n",
       "      <td>2</td>\n",
       "      <td>0.166187</td>\n",
       "      <td>0.144467</td>\n",
       "      <td>0.941364</td>\n",
       "      <td>0.986732</td>\n",
       "      <td>0.986732</td>\n",
       "      <td>05:06</td>\n",
       "    </tr>\n",
       "    <tr>\n",
       "      <td>3</td>\n",
       "      <td>0.139400</td>\n",
       "      <td>0.120372</td>\n",
       "      <td>0.952727</td>\n",
       "      <td>0.991290</td>\n",
       "      <td>0.991290</td>\n",
       "      <td>05:07</td>\n",
       "    </tr>\n",
       "    <tr>\n",
       "      <td>4</td>\n",
       "      <td>0.145481</td>\n",
       "      <td>0.124334</td>\n",
       "      <td>0.950909</td>\n",
       "      <td>0.993305</td>\n",
       "      <td>0.993305</td>\n",
       "      <td>05:05</td>\n",
       "    </tr>\n",
       "    <tr>\n",
       "      <td>5</td>\n",
       "      <td>0.118180</td>\n",
       "      <td>0.146768</td>\n",
       "      <td>0.951818</td>\n",
       "      <td>0.987679</td>\n",
       "      <td>0.987679</td>\n",
       "      <td>05:06</td>\n",
       "    </tr>\n",
       "    <tr>\n",
       "      <td>6</td>\n",
       "      <td>0.108438</td>\n",
       "      <td>0.096097</td>\n",
       "      <td>0.965909</td>\n",
       "      <td>0.994038</td>\n",
       "      <td>0.994038</td>\n",
       "      <td>05:05</td>\n",
       "    </tr>\n",
       "    <tr>\n",
       "      <td>7</td>\n",
       "      <td>0.096954</td>\n",
       "      <td>0.107208</td>\n",
       "      <td>0.958636</td>\n",
       "      <td>0.993777</td>\n",
       "      <td>0.993777</td>\n",
       "      <td>05:05</td>\n",
       "    </tr>\n",
       "    <tr>\n",
       "      <td>8</td>\n",
       "      <td>0.096417</td>\n",
       "      <td>0.115584</td>\n",
       "      <td>0.960000</td>\n",
       "      <td>0.993355</td>\n",
       "      <td>0.993355</td>\n",
       "      <td>05:04</td>\n",
       "    </tr>\n",
       "    <tr>\n",
       "      <td>9</td>\n",
       "      <td>0.088556</td>\n",
       "      <td>0.073901</td>\n",
       "      <td>0.973182</td>\n",
       "      <td>0.996056</td>\n",
       "      <td>0.996056</td>\n",
       "      <td>05:05</td>\n",
       "    </tr>\n",
       "    <tr>\n",
       "      <td>10</td>\n",
       "      <td>0.084032</td>\n",
       "      <td>0.087466</td>\n",
       "      <td>0.969091</td>\n",
       "      <td>0.994439</td>\n",
       "      <td>0.994439</td>\n",
       "      <td>05:05</td>\n",
       "    </tr>\n",
       "    <tr>\n",
       "      <td>11</td>\n",
       "      <td>0.078185</td>\n",
       "      <td>0.066831</td>\n",
       "      <td>0.976364</td>\n",
       "      <td>0.996555</td>\n",
       "      <td>0.996555</td>\n",
       "      <td>05:05</td>\n",
       "    </tr>\n",
       "    <tr>\n",
       "      <td>12</td>\n",
       "      <td>0.057540</td>\n",
       "      <td>0.061209</td>\n",
       "      <td>0.974545</td>\n",
       "      <td>0.997883</td>\n",
       "      <td>0.997883</td>\n",
       "      <td>05:05</td>\n",
       "    </tr>\n",
       "    <tr>\n",
       "      <td>13</td>\n",
       "      <td>0.058868</td>\n",
       "      <td>0.061368</td>\n",
       "      <td>0.979091</td>\n",
       "      <td>0.997029</td>\n",
       "      <td>0.997029</td>\n",
       "      <td>05:06</td>\n",
       "    </tr>\n",
       "    <tr>\n",
       "      <td>14</td>\n",
       "      <td>0.047516</td>\n",
       "      <td>0.059039</td>\n",
       "      <td>0.979545</td>\n",
       "      <td>0.997542</td>\n",
       "      <td>0.997542</td>\n",
       "      <td>05:05</td>\n",
       "    </tr>\n",
       "    <tr>\n",
       "      <td>15</td>\n",
       "      <td>0.041663</td>\n",
       "      <td>0.058896</td>\n",
       "      <td>0.980455</td>\n",
       "      <td>0.997690</td>\n",
       "      <td>0.997690</td>\n",
       "      <td>05:05</td>\n",
       "    </tr>\n",
       "    <tr>\n",
       "      <td>16</td>\n",
       "      <td>0.032860</td>\n",
       "      <td>0.066056</td>\n",
       "      <td>0.979091</td>\n",
       "      <td>0.996724</td>\n",
       "      <td>0.996724</td>\n",
       "      <td>05:05</td>\n",
       "    </tr>\n",
       "    <tr>\n",
       "      <td>17</td>\n",
       "      <td>0.031858</td>\n",
       "      <td>0.054261</td>\n",
       "      <td>0.982273</td>\n",
       "      <td>0.997429</td>\n",
       "      <td>0.997429</td>\n",
       "      <td>05:05</td>\n",
       "    </tr>\n",
       "    <tr>\n",
       "      <td>18</td>\n",
       "      <td>0.027170</td>\n",
       "      <td>0.055803</td>\n",
       "      <td>0.983636</td>\n",
       "      <td>0.997526</td>\n",
       "      <td>0.997526</td>\n",
       "      <td>05:05</td>\n",
       "    </tr>\n",
       "    <tr>\n",
       "      <td>19</td>\n",
       "      <td>0.027349</td>\n",
       "      <td>0.054426</td>\n",
       "      <td>0.983636</td>\n",
       "      <td>0.997448</td>\n",
       "      <td>0.997448</td>\n",
       "      <td>05:05</td>\n",
       "    </tr>\n",
       "    <tr>\n",
       "      <td>20</td>\n",
       "      <td>0.027713</td>\n",
       "      <td>0.055125</td>\n",
       "      <td>0.982727</td>\n",
       "      <td>0.997447</td>\n",
       "      <td>0.997447</td>\n",
       "      <td>05:05</td>\n",
       "    </tr>\n",
       "  </tbody>\n",
       "</table>"
      ],
      "text/plain": [
       "<IPython.core.display.HTML object>"
      ]
     },
     "metadata": {},
     "output_type": "display_data"
    }
   ],
   "source": [
    "#public score: 0.9742\n",
    "#saved model name: 78-vgg16-cropped_96_ps0.5-99%_dataset-complete.pth\n",
    "\n",
    "#sz = 96\n",
    "#bs = 128\n",
    "#tta_beta = 0.4\n",
    "#tta_scale = 1.35\n",
    "#dropout = 0.5\n",
    "#\n",
    "#lr = 3e-2\n",
    "#learner.fit_one_cycle(cyc_len=1, max_lr=lr)\n",
    "#\n",
    "#learner.unfreeze()\n",
    "#lr2 = 1e-4\n",
    "#lr3 = 1e-3\n",
    "#learner.fit_one_cycle(cyc_len=20, max_lr=slice(lr2, lr3))"
   ]
  },
  {
   "cell_type": "markdown",
   "metadata": {
    "hidden": true
   },
   "source": [
    "#### nasnetamobile"
   ]
  },
  {
   "cell_type": "code",
   "execution_count": null,
   "metadata": {
    "hidden": true
   },
   "outputs": [],
   "source": [
    "#public score: 0.9712\n",
    "#saved model name: 89-nasnetamobile-cropped_96-99%_dataset-dropout0.6-complete.pth\n",
    "\n",
    "#sz = 96\n",
    "#bs = 128\n",
    "#tta_beta = 0.4\n",
    "#tta_scale = 1.35\n",
    "#dropout = 0.6\n",
    "#\n",
    "#lr = 1e-2\n",
    "#learner.fit_one_cycle(cyc_len=1, max_lr=lr)\n",
    "#\n",
    "#learner.unfreeze()\n",
    "#lr2 = 1e-4\n",
    "#lr3 = 1e-3\n",
    "#learner.fit_one_cycle(cyc_len=14, max_lr=slice(lr2, lr3))"
   ]
  },
  {
   "cell_type": "markdown",
   "metadata": {
    "hidden": true
   },
   "source": [
    "#### densenet169"
   ]
  },
  {
   "cell_type": "code",
   "execution_count": 122,
   "metadata": {
    "collapsed": true,
    "hidden": true
   },
   "outputs": [
    {
     "data": {
      "text/html": [
       "Total time: 2:39:02 <p><table border=\"1\" class=\"dataframe\">\n",
       "  <thead>\n",
       "    <tr style=\"text-align: left;\">\n",
       "      <th>epoch</th>\n",
       "      <th>train_loss</th>\n",
       "      <th>valid_loss</th>\n",
       "      <th>accuracy</th>\n",
       "      <th>auc_score_1</th>\n",
       "      <th>auc_score_2</th>\n",
       "      <th>time</th>\n",
       "    </tr>\n",
       "  </thead>\n",
       "  <tbody>\n",
       "    <tr>\n",
       "      <td>1</td>\n",
       "      <td>0.151836</td>\n",
       "      <td>0.124632</td>\n",
       "      <td>0.951364</td>\n",
       "      <td>0.989345</td>\n",
       "      <td>0.989345</td>\n",
       "      <td>06:21</td>\n",
       "    </tr>\n",
       "    <tr>\n",
       "      <td>2</td>\n",
       "      <td>0.149248</td>\n",
       "      <td>0.117579</td>\n",
       "      <td>0.957273</td>\n",
       "      <td>0.989223</td>\n",
       "      <td>0.989223</td>\n",
       "      <td>06:22</td>\n",
       "    </tr>\n",
       "    <tr>\n",
       "      <td>3</td>\n",
       "      <td>0.135354</td>\n",
       "      <td>0.109914</td>\n",
       "      <td>0.959091</td>\n",
       "      <td>0.992202</td>\n",
       "      <td>0.992202</td>\n",
       "      <td>06:21</td>\n",
       "    </tr>\n",
       "    <tr>\n",
       "      <td>4</td>\n",
       "      <td>0.121981</td>\n",
       "      <td>0.103539</td>\n",
       "      <td>0.963636</td>\n",
       "      <td>0.992865</td>\n",
       "      <td>0.992865</td>\n",
       "      <td>06:22</td>\n",
       "    </tr>\n",
       "    <tr>\n",
       "      <td>5</td>\n",
       "      <td>0.120251</td>\n",
       "      <td>0.100502</td>\n",
       "      <td>0.964091</td>\n",
       "      <td>0.993121</td>\n",
       "      <td>0.993121</td>\n",
       "      <td>06:24</td>\n",
       "    </tr>\n",
       "    <tr>\n",
       "      <td>6</td>\n",
       "      <td>0.112823</td>\n",
       "      <td>0.094789</td>\n",
       "      <td>0.966364</td>\n",
       "      <td>0.993871</td>\n",
       "      <td>0.993871</td>\n",
       "      <td>06:23</td>\n",
       "    </tr>\n",
       "    <tr>\n",
       "      <td>7</td>\n",
       "      <td>0.100485</td>\n",
       "      <td>0.094181</td>\n",
       "      <td>0.963636</td>\n",
       "      <td>0.994436</td>\n",
       "      <td>0.994436</td>\n",
       "      <td>06:22</td>\n",
       "    </tr>\n",
       "    <tr>\n",
       "      <td>8</td>\n",
       "      <td>0.096910</td>\n",
       "      <td>0.079186</td>\n",
       "      <td>0.971364</td>\n",
       "      <td>0.995377</td>\n",
       "      <td>0.995377</td>\n",
       "      <td>06:23</td>\n",
       "    </tr>\n",
       "    <tr>\n",
       "      <td>9</td>\n",
       "      <td>0.097969</td>\n",
       "      <td>0.083417</td>\n",
       "      <td>0.970909</td>\n",
       "      <td>0.995470</td>\n",
       "      <td>0.995470</td>\n",
       "      <td>06:23</td>\n",
       "    </tr>\n",
       "    <tr>\n",
       "      <td>10</td>\n",
       "      <td>0.089636</td>\n",
       "      <td>0.074131</td>\n",
       "      <td>0.972273</td>\n",
       "      <td>0.996690</td>\n",
       "      <td>0.996690</td>\n",
       "      <td>06:24</td>\n",
       "    </tr>\n",
       "    <tr>\n",
       "      <td>11</td>\n",
       "      <td>0.082737</td>\n",
       "      <td>0.075555</td>\n",
       "      <td>0.974091</td>\n",
       "      <td>0.993742</td>\n",
       "      <td>0.993742</td>\n",
       "      <td>06:25</td>\n",
       "    </tr>\n",
       "    <tr>\n",
       "      <td>12</td>\n",
       "      <td>0.070256</td>\n",
       "      <td>0.071673</td>\n",
       "      <td>0.971818</td>\n",
       "      <td>0.996860</td>\n",
       "      <td>0.996860</td>\n",
       "      <td>06:22</td>\n",
       "    </tr>\n",
       "    <tr>\n",
       "      <td>13</td>\n",
       "      <td>0.070393</td>\n",
       "      <td>0.061208</td>\n",
       "      <td>0.979091</td>\n",
       "      <td>0.997394</td>\n",
       "      <td>0.997394</td>\n",
       "      <td>06:23</td>\n",
       "    </tr>\n",
       "    <tr>\n",
       "      <td>14</td>\n",
       "      <td>0.068377</td>\n",
       "      <td>0.062608</td>\n",
       "      <td>0.979091</td>\n",
       "      <td>0.997343</td>\n",
       "      <td>0.997343</td>\n",
       "      <td>06:23</td>\n",
       "    </tr>\n",
       "    <tr>\n",
       "      <td>15</td>\n",
       "      <td>0.066002</td>\n",
       "      <td>0.069379</td>\n",
       "      <td>0.977727</td>\n",
       "      <td>0.996554</td>\n",
       "      <td>0.996554</td>\n",
       "      <td>06:23</td>\n",
       "    </tr>\n",
       "    <tr>\n",
       "      <td>16</td>\n",
       "      <td>0.063826</td>\n",
       "      <td>0.061751</td>\n",
       "      <td>0.979545</td>\n",
       "      <td>0.997428</td>\n",
       "      <td>0.997428</td>\n",
       "      <td>06:23</td>\n",
       "    </tr>\n",
       "    <tr>\n",
       "      <td>17</td>\n",
       "      <td>0.053448</td>\n",
       "      <td>0.064398</td>\n",
       "      <td>0.976818</td>\n",
       "      <td>0.997413</td>\n",
       "      <td>0.997413</td>\n",
       "      <td>06:21</td>\n",
       "    </tr>\n",
       "    <tr>\n",
       "      <td>18</td>\n",
       "      <td>0.046029</td>\n",
       "      <td>0.061025</td>\n",
       "      <td>0.978636</td>\n",
       "      <td>0.997384</td>\n",
       "      <td>0.997384</td>\n",
       "      <td>06:18</td>\n",
       "    </tr>\n",
       "    <tr>\n",
       "      <td>19</td>\n",
       "      <td>0.047402</td>\n",
       "      <td>0.060483</td>\n",
       "      <td>0.983182</td>\n",
       "      <td>0.997569</td>\n",
       "      <td>0.997569</td>\n",
       "      <td>06:18</td>\n",
       "    </tr>\n",
       "    <tr>\n",
       "      <td>20</td>\n",
       "      <td>0.037887</td>\n",
       "      <td>0.062219</td>\n",
       "      <td>0.982273</td>\n",
       "      <td>0.997135</td>\n",
       "      <td>0.997135</td>\n",
       "      <td>06:19</td>\n",
       "    </tr>\n",
       "    <tr>\n",
       "      <td>21</td>\n",
       "      <td>0.036590</td>\n",
       "      <td>0.059821</td>\n",
       "      <td>0.983182</td>\n",
       "      <td>0.997355</td>\n",
       "      <td>0.997355</td>\n",
       "      <td>06:18</td>\n",
       "    </tr>\n",
       "    <tr>\n",
       "      <td>22</td>\n",
       "      <td>0.034555</td>\n",
       "      <td>0.062588</td>\n",
       "      <td>0.983182</td>\n",
       "      <td>0.997431</td>\n",
       "      <td>0.997431</td>\n",
       "      <td>06:18</td>\n",
       "    </tr>\n",
       "    <tr>\n",
       "      <td>23</td>\n",
       "      <td>0.035097</td>\n",
       "      <td>0.063219</td>\n",
       "      <td>0.981818</td>\n",
       "      <td>0.997343</td>\n",
       "      <td>0.997343</td>\n",
       "      <td>06:19</td>\n",
       "    </tr>\n",
       "    <tr>\n",
       "      <td>24</td>\n",
       "      <td>0.032999</td>\n",
       "      <td>0.062724</td>\n",
       "      <td>0.982727</td>\n",
       "      <td>0.997444</td>\n",
       "      <td>0.997444</td>\n",
       "      <td>06:17</td>\n",
       "    </tr>\n",
       "    <tr>\n",
       "      <td>25</td>\n",
       "      <td>0.029950</td>\n",
       "      <td>0.062944</td>\n",
       "      <td>0.982727</td>\n",
       "      <td>0.997358</td>\n",
       "      <td>0.997358</td>\n",
       "      <td>06:19</td>\n",
       "    </tr>\n",
       "  </tbody>\n",
       "</table>"
      ],
      "text/plain": [
       "<IPython.core.display.HTML object>"
      ]
     },
     "metadata": {},
     "output_type": "display_data"
    }
   ],
   "source": [
    "#public score: 0.9603\n",
    "#saved model name: densenet169-cropped_96-complete.pth\n",
    "\n",
    "#sz = 96\n",
    "#bs = 128\n",
    "#tta_beta = 0.4\n",
    "#tta_scale = 1.35\n",
    "#dropout = 0.5\n",
    "#\n",
    "#lr = 3e-2\n",
    "#learner.fit_one_cycle(cyc_len=1, max_lr=lr)\n",
    "#\n",
    "#learner.unfreeze()\n",
    "#lr2 = 3e-5\n",
    "#lr3 = 3e-4\n",
    "#learner.fit_one_cycle(cyc_len=25, max_lr=slice(lr2, lr3))"
   ]
  },
  {
   "cell_type": "markdown",
   "metadata": {
    "heading_collapsed": true
   },
   "source": [
    "# Interpreter"
   ]
  },
  {
   "cell_type": "code",
   "execution_count": null,
   "metadata": {
    "hidden": true
   },
   "outputs": [],
   "source": [
    "interp = ClassificationInterpretation.from_learner(learner)"
   ]
  },
  {
   "cell_type": "code",
   "execution_count": null,
   "metadata": {
    "hidden": true
   },
   "outputs": [],
   "source": [
    "interp.plot_confusion_matrix()"
   ]
  },
  {
   "cell_type": "code",
   "execution_count": null,
   "metadata": {
    "hidden": true,
    "scrolled": true
   },
   "outputs": [],
   "source": [
    "interp.plot_top_losses(16)"
   ]
  },
  {
   "cell_type": "markdown",
   "metadata": {
    "heading_collapsed": true
   },
   "source": [
    "# Validation Set"
   ]
  },
  {
   "cell_type": "markdown",
   "metadata": {
    "heading_collapsed": true,
    "hidden": true
   },
   "source": [
    "## Prediction"
   ]
  },
  {
   "cell_type": "code",
   "execution_count": 28,
   "metadata": {
    "hidden": true
   },
   "outputs": [
    {
     "data": {
      "text/html": [
       "Total time: 02:50 <p>"
      ],
      "text/plain": [
       "<IPython.core.display.HTML object>"
      ]
     },
     "metadata": {},
     "output_type": "display_data"
    }
   ],
   "source": [
    "preds,y=learner.TTA(ds_type=DatasetType.Valid, scale=1)"
   ]
  },
  {
   "cell_type": "markdown",
   "metadata": {
    "heading_collapsed": true,
    "hidden": true
   },
   "source": [
    "## AUC Score"
   ]
  },
  {
   "cell_type": "code",
   "execution_count": 29,
   "metadata": {
    "hidden": true
   },
   "outputs": [
    {
     "data": {
      "text/plain": [
       "tensor(0.9981)"
      ]
     },
     "execution_count": 29,
     "metadata": {},
     "output_type": "execute_result"
    }
   ],
   "source": [
    "pred_score_tta_1=auc_score_1(preds,y)\n",
    "pred_score_tta_1"
   ]
  },
  {
   "cell_type": "code",
   "execution_count": 30,
   "metadata": {
    "hidden": true
   },
   "outputs": [
    {
     "data": {
      "text/plain": [
       "tensor(0.9981)"
      ]
     },
     "execution_count": 30,
     "metadata": {},
     "output_type": "execute_result"
    }
   ],
   "source": [
    "pred_score_tta_2=auc_score_2(preds,y)\n",
    "pred_score_tta_2"
   ]
  },
  {
   "cell_type": "markdown",
   "metadata": {
    "heading_collapsed": true,
    "hidden": true
   },
   "source": [
    "## ROC curve and AUC on validation set"
   ]
  },
  {
   "cell_type": "code",
   "execution_count": 31,
   "metadata": {
    "hidden": true
   },
   "outputs": [],
   "source": [
    "fpr, tpr, thresholds, roc_auc = roc_curve_custom(preds, y)"
   ]
  },
  {
   "cell_type": "code",
   "execution_count": 32,
   "metadata": {
    "hidden": true
   },
   "outputs": [
    {
     "data": {
      "text/plain": [
       "0.9980848414551811"
      ]
     },
     "execution_count": 32,
     "metadata": {},
     "output_type": "execute_result"
    }
   ],
   "source": [
    "roc_auc"
   ]
  },
  {
   "cell_type": "code",
   "execution_count": 33,
   "metadata": {
    "hidden": true
   },
   "outputs": [
    {
     "data": {
      "text/plain": [
       "<matplotlib.legend.Legend at 0x7fd10ac96668>"
      ]
     },
     "execution_count": 33,
     "metadata": {},
     "output_type": "execute_result"
    },
    {
     "data": {
      "image/png": "[encoded data removed]",
      "text/plain": [
       "<Figure size 432x288 with 1 Axes>"
      ]
     },
     "metadata": {
      "needs_background": "light"
     },
     "output_type": "display_data"
    }
   ],
   "source": [
    "plt.figure()\n",
    "plt.plot(fpr, tpr, color='darkorange', label='ROC curve (area = %0.2f)' % roc_auc)\n",
    "plt.plot([0, 1], [0, 1], color='navy', linestyle='--')\n",
    "plt.xlim([-0.01, 1.0])\n",
    "plt.ylim([0.0, 1.01])\n",
    "plt.xlabel('False Positive Rate')\n",
    "plt.ylabel('True Positive Rate')\n",
    "plt.title('Receiver operating characteristic')\n",
    "plt.legend(loc=\"lower right\")"
   ]
  },
  {
   "cell_type": "markdown",
   "metadata": {
    "heading_collapsed": true,
    "hidden": true
   },
   "source": [
    "## Finding threshold on validation set"
   ]
  },
  {
   "cell_type": "code",
   "execution_count": 34,
   "metadata": {
    "hidden": true
   },
   "outputs": [],
   "source": [
    "import scipy.optimize as opt\n",
    "from sklearn.model_selection import train_test_split"
   ]
  },
  {
   "cell_type": "code",
   "execution_count": 35,
   "metadata": {
    "hidden": true
   },
   "outputs": [],
   "source": [
    "pred = preds[:, 1]"
   ]
  },
  {
   "cell_type": "code",
   "execution_count": 36,
   "metadata": {
    "hidden": true
   },
   "outputs": [],
   "source": [
    "pred_tensor = pred\n",
    "y_tensor = y\n",
    "\n",
    "pred = np.asarray(pred)\n",
    "y = np.asarray(y)"
   ]
  },
  {
   "cell_type": "code",
   "execution_count": 37,
   "metadata": {
    "hidden": true
   },
   "outputs": [],
   "source": [
    "def sigmoid_np(x):\n",
    "    return 1.0/(1.0 + np.exp(-x))\n",
    "\n",
    "def F1_soft(preds,targs,th=0.,d=25.0):\n",
    "    preds = sigmoid_np(d*(preds - th))\n",
    "    targs = targs.astype(np.float)\n",
    "    score = 2.0*(preds*targs).sum(axis=0)/((preds+targs).sum(axis=0) + 1e-6)\n",
    "    return score\n",
    "\n",
    "def fit_val(x,y):\n",
    "    params = np.zeros(1)\n",
    "    wd = 1e-5\n",
    "    error = lambda p: np.concatenate((F1_soft(x,y,p) - 1.0,\n",
    "                                      wd*p), axis=None)\n",
    "    p, success = opt.leastsq(error, params)\n",
    "    return p"
   ]
  },
  {
   "cell_type": "code",
   "execution_count": 38,
   "metadata": {
    "hidden": true
   },
   "outputs": [
    {
     "name": "stdout",
     "output_type": "stream",
     "text": [
      "Thresholds:  [0.498545]\n",
      "F1 macro:  0.9849769628141016\n",
      "F1 macro (th = 0.0):  0.28832500444746334\n",
      "F1 micro:  0.9855243722304283\n"
     ]
    },
    {
     "name": "stderr",
     "output_type": "stream",
     "text": [
      "/opt/conda/lib/python3.6/site-packages/sklearn/metrics/classification.py:1143: UndefinedMetricWarning: F-score is ill-defined and being set to 0.0 in labels with no predicted samples.\n",
      "  'precision', 'predicted', average, warn_for)\n"
     ]
    }
   ],
   "source": [
    "import sklearn\n",
    "th = fit_val(pred, y)\n",
    "print('Thresholds: ',th)\n",
    "print('F1 macro: ', sklearn.metrics.f1_score(y, pred>th, average='macro'))\n",
    "print('F1 macro (th = 0.0): ', sklearn.metrics.f1_score(y, pred>0.0, average='macro'))\n",
    "print('F1 micro: ', sklearn.metrics.f1_score(y, pred>th, average='micro'))"
   ]
  },
  {
   "cell_type": "code",
   "execution_count": 39,
   "metadata": {
    "hidden": true
   },
   "outputs": [
    {
     "name": "stdout",
     "output_type": "stream",
     "text": [
      "Thresholds:  [0.481899]\n",
      "F1 macro avr: 0.9848190787747916\n",
      "F1 macro:  0.9850265550264219\n",
      "F1 micro:  0.9855698216111806\n",
      "Fractions:  0.4043858652425861\n",
      "Fractions (true):  0.40513578002499717\n"
     ]
    }
   ],
   "source": [
    "from sklearn.model_selection import train_test_split\n",
    "th, score, cv = 0,0,10\n",
    "for i in range(cv):\n",
    "    xt,xv,yt,yv = train_test_split(pred,y,test_size=0.5,random_state=i)\n",
    "    th_i = fit_val(xt,yt)\n",
    "    th += th_i\n",
    "    score +=  sklearn.metrics.f1_score(yv, xv>th_i, average='macro')\n",
    "th/=cv\n",
    "score/=cv\n",
    "print('Thresholds: ',th)\n",
    "print('F1 macro avr:',score)\n",
    "print('F1 macro: ', sklearn.metrics.f1_score(y, pred>th, average='macro'))\n",
    "print('F1 micro: ', sklearn.metrics.f1_score(y, pred>th, average='micro'))\n",
    "\n",
    "\n",
    "print('Fractions: ',(pred > th).mean(axis=0))\n",
    "print('Fractions (true): ',(y > 0.5).mean(axis=0))"
   ]
  },
  {
   "cell_type": "code",
   "execution_count": 40,
   "metadata": {
    "hidden": true
   },
   "outputs": [
    {
     "data": {
      "image/png": "[encoded data removed]",
      "text/plain": [
       "<Figure size 432x288 with 1 Axes>"
      ]
     },
     "metadata": {
      "needs_background": "light"
     },
     "output_type": "display_data"
    }
   ],
   "source": [
    "f1 =  sklearn.metrics.f1_score(y, pred>th, average=None)\n",
    "bins = np.linspace(pred[:].min(), pred[:].max(), 50)\n",
    "plt.hist(pred[y[:] == 0][:], bins, alpha=0.5, log=True, label='false')\n",
    "plt.hist(pred[y[:] == 1][:], bins, alpha=0.5, log=True, label='true')\n",
    "plt.legend(loc='upper right')\n",
    "plt.axvline(x=th[0], color='k', linestyle='--')\n",
    "plt.show()"
   ]
  },
  {
   "cell_type": "markdown",
   "metadata": {},
   "source": [
    "# Test Set"
   ]
  },
  {
   "cell_type": "markdown",
   "metadata": {},
   "source": [
    "## Single Model"
   ]
  },
  {
   "cell_type": "code",
   "execution_count": null,
   "metadata": {},
   "outputs": [],
   "source": [
    "#learner.load('vgg16-cropped_96_ps0.5-99%_dataset-complete')"
   ]
  },
  {
   "cell_type": "code",
   "execution_count": 25,
   "metadata": {},
   "outputs": [
    {
     "data": {
      "text/plain": [
       "'101-se_resnext50_32x4d-cropped_96-bs128-99%_dataset-normalize(imagenet_stats)'"
      ]
     },
     "execution_count": 25,
     "metadata": {},
     "output_type": "execute_result"
    }
   ],
   "source": [
    "nameBase"
   ]
  },
  {
   "cell_type": "code",
   "execution_count": 26,
   "metadata": {},
   "outputs": [
    {
     "data": {
      "text/html": [
       "Total time: 05:29 <p>"
      ],
      "text/plain": [
       "<IPython.core.display.HTML object>"
      ]
     },
     "metadata": {},
     "output_type": "display_data"
    }
   ],
   "source": [
    "preds_test_tta,y_test_tta=learner.TTA(ds_type=DatasetType.Test, scale=tta_scale, beta=tta_beta)\n",
    "preds_test = preds_test_tta\n",
    "\n",
    "#preds_test, _ = learner.get_preds(ds_type=DatasetType.Test)"
   ]
  },
  {
   "cell_type": "code",
   "execution_count": 27,
   "metadata": {},
   "outputs": [],
   "source": [
    "name = f'{nameBase}'"
   ]
  },
  {
   "cell_type": "markdown",
   "metadata": {
    "heading_collapsed": true
   },
   "source": [
    "## Ensembling"
   ]
  },
  {
   "cell_type": "code",
   "execution_count": 59,
   "metadata": {
    "hidden": true
   },
   "outputs": [],
   "source": [
    "#arch_list = [xception, inceptionv4, densenet169, vgg13, vgg16, vgg19, resnet18]\n",
    "arch_list = [nasnetamobile, vgg16, se_resnext50_32x4d]"
   ]
  },
  {
   "cell_type": "code",
   "execution_count": 61,
   "metadata": {
    "hidden": true
   },
   "outputs": [],
   "source": [
    "dict_arch_savedModel = {densenet169:'densenet169-cropped_96-complete',\n",
    "                        vgg13:'vgg13-cropped_96_ps0.5-99%_dataset-complete',\n",
    "                        vgg16:'78-vgg16-cropped_96_ps0.5-99%_dataset-complete',\n",
    "                        vgg19:'68-vgg19-cropped_96_ps0.5-99%_dataset-complete',\n",
    "                        resnet18:'67-resnet18-cropped_96_ps0.5-99%_dataset-complete',\n",
    "                        xception:'69-xception-cropped_96_ps0.5-99%_dataset-complete',\n",
    "                        inceptionv4:'70-inceptionv4-cropped_96_ps0.5-99%_dataset-complete',\n",
    "                        nasnetamobile:'89-nasnetamobile-cropped_96-99%_dataset-dropout0.6-complete',\n",
    "                        se_resnext50_32x4d: '94-se_resnext50_32x4d-cropped_96-99%_dataset-dropout0.5-complete'}"
   ]
  },
  {
   "cell_type": "code",
   "execution_count": 62,
   "metadata": {
    "hidden": true
   },
   "outputs": [
    {
     "data": {
      "text/plain": [
       "\"['nasnetamobile', 'vgg16', 'se_resnext50_32x4d']\""
      ]
     },
     "execution_count": 62,
     "metadata": {},
     "output_type": "execute_result"
    }
   ],
   "source": [
    "str([a.__name__ for a in arch_list])"
   ]
  },
  {
   "cell_type": "code",
   "execution_count": 63,
   "metadata": {
    "hidden": true
   },
   "outputs": [
    {
     "data": {
      "text/plain": [
       "\"95-['nasnetamobile', 'vgg16', 'se_resnext50_32x4d']_sz96_ensembled\""
      ]
     },
     "execution_count": 63,
     "metadata": {},
     "output_type": "execute_result"
    }
   ],
   "source": [
    "name = f'{n}-{str([a.__name__ for a in arch_list])}_sz{sz}_ensembled'; name"
   ]
  },
  {
   "cell_type": "code",
   "execution_count": 64,
   "metadata": {
    "hidden": true,
    "scrolled": false
   },
   "outputs": [
    {
     "data": {
      "text/html": [
       "Total time: 05:41 <p>"
      ],
      "text/plain": [
       "<IPython.core.display.HTML object>"
      ]
     },
     "metadata": {},
     "output_type": "display_data"
    }
   ],
   "source": [
    "predsList = []\n",
    "for arch in arch_list:\n",
    "    learner = cnn_learner(data=data, base_arch=arch)\n",
    "    learner.load(dict_arch_savedModel[arch])\n",
    "    preds_test_tta,y_test_tta=learner.TTA(ds_type=DatasetType.Test, scale=1)\n",
    "    predsList.append(preds_test_tta)"
   ]
  },
  {
   "cell_type": "code",
   "execution_count": 65,
   "metadata": {
    "hidden": true
   },
   "outputs": [],
   "source": [
    "preds_ensembled = predsList[0]\n",
    "for n, _ in enumerate(predsList):\n",
    "    if n == 0:\n",
    "        continue\n",
    "    else:\n",
    "        preds_ensembled = preds_ensembled + predsList[n]\n",
    "preds_ensembled = preds_ensembled/len(predsList)"
   ]
  },
  {
   "cell_type": "code",
   "execution_count": 66,
   "metadata": {
    "hidden": true
   },
   "outputs": [],
   "source": [
    "preds_test = preds_ensembled"
   ]
  },
  {
   "cell_type": "markdown",
   "metadata": {},
   "source": [
    "# Submission"
   ]
  },
  {
   "cell_type": "code",
   "execution_count": 28,
   "metadata": {},
   "outputs": [],
   "source": [
    "clean_fname=np.vectorize(lambda fname: str(fname).split('/')[-1].split('.')[0])\n",
    "fnames_cleaned=clean_fname(data.test_ds.items).astype(str)"
   ]
  },
  {
   "cell_type": "code",
   "execution_count": 29,
   "metadata": {},
   "outputs": [],
   "source": [
    "probs = np.array(preds_test[:,-1])\n",
    "\n",
    "#pred_labels = np.where(probs > th, 1, 0)\n",
    "df = pd.DataFrame({'id':[fname for fname in fnames_cleaned], 'label':probs})\n",
    "df.to_csv(SUBMISSIONS/f'{name}.csv', header=True, index=False)"
   ]
  },
  {
   "cell_type": "markdown",
   "metadata": {
    "heading_collapsed": true
   },
   "source": [
    "## obsolete"
   ]
  },
  {
   "cell_type": "code",
   "execution_count": 62,
   "metadata": {
    "hidden": true
   },
   "outputs": [
    {
     "data": {
      "application/vnd.jupyter.widget-view+json": {
       "model_id": "1bded1a2ab6e4c5b832c385f64e53ee4",
       "version_major": 2,
       "version_minor": 0
      },
      "text/plain": [
       "HBox(children=(IntProgress(value=0, max=8), HTML(value='')))"
      ]
     },
     "metadata": {},
     "output_type": "display_data"
    }
   ],
   "source": [
    "clean_fname=np.vectorize(lambda fname: str(fname).split('/')[-1].split('.')[0])\n",
    "fnames_cleaned=clean_fname(data.test_ds.items).astype(str)\n",
    "\n",
    "sub=pd.read_csv(SAMPLE).set_index('id')\n",
    "sub.loc[fnames_cleaned,'label']=(to_np(preds_test_tta[:,1]) > th).astype(np.int)\n",
    "name = f'{n}-{arch.__name__}_sz{sz}_bs{bs}_th{th}.csv'\n",
    "sub.to_csv(SUBMISSIONS/name)"
   ]
  }
 ],
 "metadata": {
  "kernelspec": {
   "display_name": "Python 3",
   "language": "python",
   "name": "python3"
  },
  "language_info": {
   "codemirror_mode": {
    "name": "ipython",
    "version": 3
   },
   "file_extension": ".py",
   "mimetype": "text/x-python",
   "name": "python",
   "nbconvert_exporter": "python",
   "pygments_lexer": "ipython3",
   "version": "3.6.7"
  },
  "toc": {
   "base_numbering": 1,
   "nav_menu": {},
   "number_sections": true,
   "sideBar": true,
   "skip_h1_title": false,
   "title_cell": "Table of Contents",
   "title_sidebar": "Contents",
   "toc_cell": false,
   "toc_position": {
    "height": "calc(100% - 180px)",
    "left": "10px",
    "top": "150px",
    "width": "384px"
   },
   "toc_section_display": true,
   "toc_window_display": true
  }
 },
 "nbformat": 4,
 "nbformat_minor": 2
}
